{
 "cells": [
  {
   "cell_type": "code",
   "execution_count": 1,
   "id": "1948a55f-feee-4e34-b69d-0895cbaecc76",
   "metadata": {},
   "outputs": [],
   "source": [
    "import pandas as pd\n",
    "from sklearn.preprocessing import LabelEncoder, StandardScaler\n",
    "from sklearn.model_selection import train_test_split\n",
    "from sklearn.linear_model import LogisticRegression\n",
    "from sklearn.metrics import classification_report, confusion_matrix\n",
    "import matplotlib.pyplot as plt\n",
    "import seaborn as sns"
   ]
  },
  {
   "cell_type": "code",
   "execution_count": 2,
   "id": "32bebba7-0d26-493d-96be-f322f4eb54d5",
   "metadata": {},
   "outputs": [
    {
     "data": {
      "text/html": [
       "<div>\n",
       "<style scoped>\n",
       "    .dataframe tbody tr th:only-of-type {\n",
       "        vertical-align: middle;\n",
       "    }\n",
       "\n",
       "    .dataframe tbody tr th {\n",
       "        vertical-align: top;\n",
       "    }\n",
       "\n",
       "    .dataframe thead th {\n",
       "        text-align: right;\n",
       "    }\n",
       "</style>\n",
       "<table border=\"1\" class=\"dataframe\">\n",
       "  <thead>\n",
       "    <tr style=\"text-align: right;\">\n",
       "      <th></th>\n",
       "      <th>student_id</th>\n",
       "      <th>student_name</th>\n",
       "      <th>age</th>\n",
       "      <th>gender</th>\n",
       "      <th>previous_grades</th>\n",
       "      <th>attendance_percentage</th>\n",
       "      <th>study_hours_per_week</th>\n",
       "      <th>assignments_submitted</th>\n",
       "      <th>exam_scores</th>\n",
       "      <th>student_success</th>\n",
       "    </tr>\n",
       "  </thead>\n",
       "  <tbody>\n",
       "    <tr>\n",
       "      <th>0</th>\n",
       "      <td>1</td>\n",
       "      <td>Saanvi Das</td>\n",
       "      <td>23.0</td>\n",
       "      <td>Male</td>\n",
       "      <td>69.0</td>\n",
       "      <td>56.0</td>\n",
       "      <td>18.0</td>\n",
       "      <td>6.0</td>\n",
       "      <td>73.0</td>\n",
       "      <td>0</td>\n",
       "    </tr>\n",
       "    <tr>\n",
       "      <th>1</th>\n",
       "      <td>2</td>\n",
       "      <td>Ananya Sharma</td>\n",
       "      <td>20.0</td>\n",
       "      <td>Female</td>\n",
       "      <td>53.0</td>\n",
       "      <td>71.0</td>\n",
       "      <td>33.0</td>\n",
       "      <td>18.0</td>\n",
       "      <td>51.0</td>\n",
       "      <td>0</td>\n",
       "    </tr>\n",
       "    <tr>\n",
       "      <th>2</th>\n",
       "      <td>3</td>\n",
       "      <td>Rohan Kumar</td>\n",
       "      <td>21.0</td>\n",
       "      <td>Male</td>\n",
       "      <td>98.0</td>\n",
       "      <td>59.0</td>\n",
       "      <td>34.0</td>\n",
       "      <td>5.0</td>\n",
       "      <td>67.0</td>\n",
       "      <td>0</td>\n",
       "    </tr>\n",
       "    <tr>\n",
       "      <th>3</th>\n",
       "      <td>4</td>\n",
       "      <td>Vivaan Chopra</td>\n",
       "      <td>23.0</td>\n",
       "      <td>Male</td>\n",
       "      <td>59.0</td>\n",
       "      <td>NaN</td>\n",
       "      <td>0.0</td>\n",
       "      <td>10.0</td>\n",
       "      <td>48.0</td>\n",
       "      <td>0</td>\n",
       "    </tr>\n",
       "    <tr>\n",
       "      <th>4</th>\n",
       "      <td>5</td>\n",
       "      <td>Ira Reddy</td>\n",
       "      <td>19.0</td>\n",
       "      <td>Male</td>\n",
       "      <td>88.0</td>\n",
       "      <td>64.0</td>\n",
       "      <td>20.0</td>\n",
       "      <td>10.0</td>\n",
       "      <td>60.0</td>\n",
       "      <td>0</td>\n",
       "    </tr>\n",
       "  </tbody>\n",
       "</table>\n",
       "</div>"
      ],
      "text/plain": [
       "   student_id   student_name   age  gender  previous_grades  \\\n",
       "0           1     Saanvi Das  23.0    Male             69.0   \n",
       "1           2  Ananya Sharma  20.0  Female             53.0   \n",
       "2           3    Rohan Kumar  21.0    Male             98.0   \n",
       "3           4  Vivaan Chopra  23.0    Male             59.0   \n",
       "4           5      Ira Reddy  19.0    Male             88.0   \n",
       "\n",
       "   attendance_percentage  study_hours_per_week  assignments_submitted  \\\n",
       "0                   56.0                  18.0                    6.0   \n",
       "1                   71.0                  33.0                   18.0   \n",
       "2                   59.0                  34.0                    5.0   \n",
       "3                    NaN                   0.0                   10.0   \n",
       "4                   64.0                  20.0                   10.0   \n",
       "\n",
       "   exam_scores  student_success  \n",
       "0         73.0                0  \n",
       "1         51.0                0  \n",
       "2         67.0                0  \n",
       "3         48.0                0  \n",
       "4         60.0                0  "
      ]
     },
     "execution_count": 2,
     "metadata": {},
     "output_type": "execute_result"
    }
   ],
   "source": [
    "#Load the Data\n",
    "df = pd.read_csv(\"student_data.csv\")\n",
    "df.head()"
   ]
  },
  {
   "cell_type": "code",
   "execution_count": 3,
   "id": "186a3921-31ab-4559-a270-eef0e0aeb09a",
   "metadata": {},
   "outputs": [
    {
     "name": "stdout",
     "output_type": "stream",
     "text": [
      "The Rows are 2200 and the Columns are 10\n"
     ]
    }
   ],
   "source": [
    "# Shape of dataset\n",
    "print(f\"The Rows are {df.shape[0]} and the Columns are {df.shape[1]}\")"
   ]
  },
  {
   "cell_type": "code",
   "execution_count": 4,
   "id": "a711232a-82a6-404d-a0f8-fdf4e797a225",
   "metadata": {},
   "outputs": [
    {
     "name": "stdout",
     "output_type": "stream",
     "text": [
      "Dataset Information:\n",
      "<class 'pandas.core.frame.DataFrame'>\n",
      "RangeIndex: 2200 entries, 0 to 2199\n",
      "Data columns (total 10 columns):\n",
      " #   Column                 Non-Null Count  Dtype  \n",
      "---  ------                 --------------  -----  \n",
      " 0   student_id             2200 non-null   int64  \n",
      " 1   student_name           2200 non-null   object \n",
      " 2   age                    2090 non-null   float64\n",
      " 3   gender                 2090 non-null   object \n",
      " 4   previous_grades        2090 non-null   float64\n",
      " 5   attendance_percentage  2090 non-null   float64\n",
      " 6   study_hours_per_week   2090 non-null   float64\n",
      " 7   assignments_submitted  2090 non-null   float64\n",
      " 8   exam_scores            2090 non-null   float64\n",
      " 9   student_success        2200 non-null   int64  \n",
      "dtypes: float64(6), int64(2), object(2)\n",
      "memory usage: 172.0+ KB\n"
     ]
    }
   ],
   "source": [
    "#Display the Data Information\n",
    "\n",
    "print(\"Dataset Information:\")\n",
    "df.info()"
   ]
  },
  {
   "cell_type": "code",
   "execution_count": 5,
   "id": "36107d04-d755-462d-bd3e-7e94412d121f",
   "metadata": {},
   "outputs": [
    {
     "name": "stdout",
     "output_type": "stream",
     "text": [
      "Describe the All the Datasets.\n"
     ]
    },
    {
     "data": {
      "text/html": [
       "<div>\n",
       "<style scoped>\n",
       "    .dataframe tbody tr th:only-of-type {\n",
       "        vertical-align: middle;\n",
       "    }\n",
       "\n",
       "    .dataframe tbody tr th {\n",
       "        vertical-align: top;\n",
       "    }\n",
       "\n",
       "    .dataframe thead th {\n",
       "        text-align: right;\n",
       "    }\n",
       "</style>\n",
       "<table border=\"1\" class=\"dataframe\">\n",
       "  <thead>\n",
       "    <tr style=\"text-align: right;\">\n",
       "      <th></th>\n",
       "      <th>student_id</th>\n",
       "      <th>student_name</th>\n",
       "      <th>age</th>\n",
       "      <th>gender</th>\n",
       "      <th>previous_grades</th>\n",
       "      <th>attendance_percentage</th>\n",
       "      <th>study_hours_per_week</th>\n",
       "      <th>assignments_submitted</th>\n",
       "      <th>exam_scores</th>\n",
       "      <th>student_success</th>\n",
       "    </tr>\n",
       "  </thead>\n",
       "  <tbody>\n",
       "    <tr>\n",
       "      <th>count</th>\n",
       "      <td>2200.000000</td>\n",
       "      <td>2200</td>\n",
       "      <td>2090.000000</td>\n",
       "      <td>2090</td>\n",
       "      <td>2090.000000</td>\n",
       "      <td>2090.000000</td>\n",
       "      <td>2090.000000</td>\n",
       "      <td>2090.000000</td>\n",
       "      <td>2090.000000</td>\n",
       "      <td>2200.000000</td>\n",
       "    </tr>\n",
       "    <tr>\n",
       "      <th>unique</th>\n",
       "      <td>NaN</td>\n",
       "      <td>399</td>\n",
       "      <td>NaN</td>\n",
       "      <td>2</td>\n",
       "      <td>NaN</td>\n",
       "      <td>NaN</td>\n",
       "      <td>NaN</td>\n",
       "      <td>NaN</td>\n",
       "      <td>NaN</td>\n",
       "      <td>NaN</td>\n",
       "    </tr>\n",
       "    <tr>\n",
       "      <th>top</th>\n",
       "      <td>NaN</td>\n",
       "      <td>Pari Kumar</td>\n",
       "      <td>NaN</td>\n",
       "      <td>Female</td>\n",
       "      <td>NaN</td>\n",
       "      <td>NaN</td>\n",
       "      <td>NaN</td>\n",
       "      <td>NaN</td>\n",
       "      <td>NaN</td>\n",
       "      <td>NaN</td>\n",
       "    </tr>\n",
       "    <tr>\n",
       "      <th>freq</th>\n",
       "      <td>NaN</td>\n",
       "      <td>15</td>\n",
       "      <td>NaN</td>\n",
       "      <td>1077</td>\n",
       "      <td>NaN</td>\n",
       "      <td>NaN</td>\n",
       "      <td>NaN</td>\n",
       "      <td>NaN</td>\n",
       "      <td>NaN</td>\n",
       "      <td>NaN</td>\n",
       "    </tr>\n",
       "    <tr>\n",
       "      <th>mean</th>\n",
       "      <td>1100.500000</td>\n",
       "      <td>NaN</td>\n",
       "      <td>20.464593</td>\n",
       "      <td>NaN</td>\n",
       "      <td>70.220574</td>\n",
       "      <td>74.746411</td>\n",
       "      <td>19.611483</td>\n",
       "      <td>9.549282</td>\n",
       "      <td>64.411483</td>\n",
       "      <td>0.278636</td>\n",
       "    </tr>\n",
       "    <tr>\n",
       "      <th>std</th>\n",
       "      <td>635.229617</td>\n",
       "      <td>NaN</td>\n",
       "      <td>2.299695</td>\n",
       "      <td>NaN</td>\n",
       "      <td>17.364718</td>\n",
       "      <td>14.240188</td>\n",
       "      <td>11.565215</td>\n",
       "      <td>5.839624</td>\n",
       "      <td>20.044781</td>\n",
       "      <td>0.448430</td>\n",
       "    </tr>\n",
       "    <tr>\n",
       "      <th>min</th>\n",
       "      <td>1.000000</td>\n",
       "      <td>NaN</td>\n",
       "      <td>17.000000</td>\n",
       "      <td>NaN</td>\n",
       "      <td>40.000000</td>\n",
       "      <td>50.000000</td>\n",
       "      <td>0.000000</td>\n",
       "      <td>0.000000</td>\n",
       "      <td>30.000000</td>\n",
       "      <td>0.000000</td>\n",
       "    </tr>\n",
       "    <tr>\n",
       "      <th>25%</th>\n",
       "      <td>550.750000</td>\n",
       "      <td>NaN</td>\n",
       "      <td>18.000000</td>\n",
       "      <td>NaN</td>\n",
       "      <td>56.000000</td>\n",
       "      <td>63.000000</td>\n",
       "      <td>10.000000</td>\n",
       "      <td>4.000000</td>\n",
       "      <td>47.000000</td>\n",
       "      <td>0.000000</td>\n",
       "    </tr>\n",
       "    <tr>\n",
       "      <th>50%</th>\n",
       "      <td>1100.500000</td>\n",
       "      <td>NaN</td>\n",
       "      <td>20.000000</td>\n",
       "      <td>NaN</td>\n",
       "      <td>71.000000</td>\n",
       "      <td>74.000000</td>\n",
       "      <td>19.000000</td>\n",
       "      <td>10.000000</td>\n",
       "      <td>65.000000</td>\n",
       "      <td>0.000000</td>\n",
       "    </tr>\n",
       "    <tr>\n",
       "      <th>75%</th>\n",
       "      <td>1650.250000</td>\n",
       "      <td>NaN</td>\n",
       "      <td>22.000000</td>\n",
       "      <td>NaN</td>\n",
       "      <td>86.000000</td>\n",
       "      <td>87.000000</td>\n",
       "      <td>30.000000</td>\n",
       "      <td>15.000000</td>\n",
       "      <td>82.000000</td>\n",
       "      <td>1.000000</td>\n",
       "    </tr>\n",
       "    <tr>\n",
       "      <th>max</th>\n",
       "      <td>2200.000000</td>\n",
       "      <td>NaN</td>\n",
       "      <td>24.000000</td>\n",
       "      <td>NaN</td>\n",
       "      <td>99.000000</td>\n",
       "      <td>99.000000</td>\n",
       "      <td>39.000000</td>\n",
       "      <td>19.000000</td>\n",
       "      <td>99.000000</td>\n",
       "      <td>1.000000</td>\n",
       "    </tr>\n",
       "  </tbody>\n",
       "</table>\n",
       "</div>"
      ],
      "text/plain": [
       "         student_id student_name          age  gender  previous_grades  \\\n",
       "count   2200.000000         2200  2090.000000    2090      2090.000000   \n",
       "unique          NaN          399          NaN       2              NaN   \n",
       "top             NaN   Pari Kumar          NaN  Female              NaN   \n",
       "freq            NaN           15          NaN    1077              NaN   \n",
       "mean    1100.500000          NaN    20.464593     NaN        70.220574   \n",
       "std      635.229617          NaN     2.299695     NaN        17.364718   \n",
       "min        1.000000          NaN    17.000000     NaN        40.000000   \n",
       "25%      550.750000          NaN    18.000000     NaN        56.000000   \n",
       "50%     1100.500000          NaN    20.000000     NaN        71.000000   \n",
       "75%     1650.250000          NaN    22.000000     NaN        86.000000   \n",
       "max     2200.000000          NaN    24.000000     NaN        99.000000   \n",
       "\n",
       "        attendance_percentage  study_hours_per_week  assignments_submitted  \\\n",
       "count             2090.000000           2090.000000            2090.000000   \n",
       "unique                    NaN                   NaN                    NaN   \n",
       "top                       NaN                   NaN                    NaN   \n",
       "freq                      NaN                   NaN                    NaN   \n",
       "mean                74.746411             19.611483               9.549282   \n",
       "std                 14.240188             11.565215               5.839624   \n",
       "min                 50.000000              0.000000               0.000000   \n",
       "25%                 63.000000             10.000000               4.000000   \n",
       "50%                 74.000000             19.000000              10.000000   \n",
       "75%                 87.000000             30.000000              15.000000   \n",
       "max                 99.000000             39.000000              19.000000   \n",
       "\n",
       "        exam_scores  student_success  \n",
       "count   2090.000000      2200.000000  \n",
       "unique          NaN              NaN  \n",
       "top             NaN              NaN  \n",
       "freq            NaN              NaN  \n",
       "mean      64.411483         0.278636  \n",
       "std       20.044781         0.448430  \n",
       "min       30.000000         0.000000  \n",
       "25%       47.000000         0.000000  \n",
       "50%       65.000000         0.000000  \n",
       "75%       82.000000         1.000000  \n",
       "max       99.000000         1.000000  "
      ]
     },
     "execution_count": 5,
     "metadata": {},
     "output_type": "execute_result"
    }
   ],
   "source": [
    "#Describe the dataset\n",
    "print(\"Describe the All the Datasets.\")\n",
    "df.describe(include='all')"
   ]
  },
  {
   "cell_type": "code",
   "execution_count": 6,
   "id": "f7c8abfe-f773-4d86-a3b3-0c4430e79f14",
   "metadata": {},
   "outputs": [
    {
     "name": "stdout",
     "output_type": "stream",
     "text": [
      "Find the Missing Values\n"
     ]
    },
    {
     "data": {
      "text/plain": [
       "student_id                 0\n",
       "student_name               0\n",
       "age                      110\n",
       "gender                   110\n",
       "previous_grades          110\n",
       "attendance_percentage    110\n",
       "study_hours_per_week     110\n",
       "assignments_submitted    110\n",
       "exam_scores              110\n",
       "student_success            0\n",
       "dtype: int64"
      ]
     },
     "execution_count": 6,
     "metadata": {},
     "output_type": "execute_result"
    }
   ],
   "source": [
    "#Fined the Null values\n",
    "print(\"Find the Missing Values\")\n",
    "df.isnull().sum()"
   ]
  },
  {
   "cell_type": "code",
   "execution_count": 7,
   "id": "f830c225-905a-460d-947c-e018f2589920",
   "metadata": {},
   "outputs": [
    {
     "name": "stdout",
     "output_type": "stream",
     "text": [
      "<class 'pandas.core.frame.DataFrame'>\n",
      "RangeIndex: 2200 entries, 0 to 2199\n",
      "Data columns (total 10 columns):\n",
      " #   Column                 Non-Null Count  Dtype  \n",
      "---  ------                 --------------  -----  \n",
      " 0   student_id             2200 non-null   int64  \n",
      " 1   student_name           2200 non-null   object \n",
      " 2   age                    2090 non-null   float64\n",
      " 3   gender                 2090 non-null   object \n",
      " 4   previous_grades        2090 non-null   float64\n",
      " 5   attendance_percentage  2090 non-null   float64\n",
      " 6   study_hours_per_week   2090 non-null   float64\n",
      " 7   assignments_submitted  2090 non-null   float64\n",
      " 8   exam_scores            2090 non-null   float64\n",
      " 9   student_success        2200 non-null   int64  \n",
      "dtypes: float64(6), int64(2), object(2)\n",
      "memory usage: 172.0+ KB\n"
     ]
    }
   ],
   "source": [
    "df.info()"
   ]
  },
  {
   "cell_type": "code",
   "execution_count": 8,
   "id": "59230936-db59-46b0-930a-302a97355981",
   "metadata": {},
   "outputs": [],
   "source": [
    "#Fillup the Missing Values for Gender\n",
    "\n",
    "df['gender'] = df['gender'].fillna(df['gender'].mode()[0])"
   ]
  },
  {
   "cell_type": "code",
   "execution_count": 9,
   "id": "e111aa76-d975-4262-878b-f4430c1e0ab7",
   "metadata": {},
   "outputs": [],
   "source": [
    "#Fillup the missing Values for the Remaining Columns.\n",
    "l1 = ['age','previous_grades','attendance_percentage','study_hours_per_week','assignments_submitted','exam_scores']\n",
    "\n",
    "for i in l1:\n",
    "    df[i] = df[i].fillna(df[i].mean())"
   ]
  },
  {
   "cell_type": "code",
   "execution_count": 10,
   "id": "a9a71860-23ed-42bc-86ac-284b3f959414",
   "metadata": {},
   "outputs": [
    {
     "name": "stdout",
     "output_type": "stream",
     "text": [
      "Check any missing Values are there or not.\n"
     ]
    },
    {
     "data": {
      "text/plain": [
       "student_id               0\n",
       "student_name             0\n",
       "age                      0\n",
       "gender                   0\n",
       "previous_grades          0\n",
       "attendance_percentage    0\n",
       "study_hours_per_week     0\n",
       "assignments_submitted    0\n",
       "exam_scores              0\n",
       "student_success          0\n",
       "dtype: int64"
      ]
     },
     "execution_count": 10,
     "metadata": {},
     "output_type": "execute_result"
    }
   ],
   "source": [
    "#Check the missing Values is Fillup or not\n",
    "\n",
    "print(\"Check any missing Values are there or not.\")\n",
    "df.isnull().sum()"
   ]
  },
  {
   "cell_type": "code",
   "execution_count": 11,
   "id": "308961ff-9f84-4130-9ac2-dc476736ca30",
   "metadata": {},
   "outputs": [
    {
     "data": {
      "image/png": "[encoded data removed]",
      "text/plain": [
       "<Figure size 1500x800 with 1 Axes>"
      ]
     },
     "metadata": {},
     "output_type": "display_data"
    }
   ],
   "source": [
    "#Distribution of Exam Scores with Scaled Data\n",
    "\n",
    "plt.figure(figsize=(15,8))\n",
    "plt.hist(df['exam_scores'],bins=20,color=\"red\",edgecolor='black',label=\"Distribution of Exam Scores\")\n",
    "plt.title(\"Distribution of Exam Scores\")\n",
    "plt.xlabel(\"Exam Score\")\n",
    "plt.ylabel(\"Number of Student\")\n",
    "plt.grid(True)\n",
    "plt.savefig(\"Distribution_of_Exam_Scores\",dpi=400,bbox_inches='tight')\n",
    "plt.show()"
   ]
  },
  {
   "cell_type": "code",
   "execution_count": 12,
   "id": "10823d2a-725f-4f6e-9230-5c92af7c9e6b",
   "metadata": {},
   "outputs": [
    {
     "data": {
      "image/png": "[encoded data removed]",
      "text/plain": [
       "<Figure size 1500x800 with 1 Axes>"
      ]
     },
     "metadata": {},
     "output_type": "display_data"
    }
   ],
   "source": [
    "#Average Exam Scores vs Age (Pass vs Fail)\n",
    "\n",
    "plt.figure(figsize=(15,8))\n",
    "\n",
    "pass_data = df[df['student_success']==1].groupby('age')['exam_scores'].mean()\n",
    "fail_data = df[df['student_success']==0].groupby('age')['exam_scores'].mean()\n",
    "\n",
    "plt.plot(pass_data.index,pass_data.values,marker='o',color='green',label='Pass')\n",
    "plt.plot(fail_data.index,fail_data.values,marker='o',color='red',label='Fail')\n",
    "plt.title(\"Average Exam Scores vs Age (Pass vs Fail)\")\n",
    "plt.xlabel(\"Age\")\n",
    "plt.ylabel(\"Average Exam Score\")\n",
    "plt.legend(loc='upper left')\n",
    "plt.grid(True)\n",
    "plt.savefig(\"Average_Exam_Scores_vs_Age_(Pass vs Fail).png\",dpi=400,bbox_inches='tight')\n",
    "plt.show()"
   ]
  },
  {
   "cell_type": "code",
   "execution_count": 13,
   "id": "a039815b-08aa-4bd7-b301-bee6b9642ad4",
   "metadata": {},
   "outputs": [
    {
     "name": "stdout",
     "output_type": "stream",
     "text": [
      "We are Encode the Gender Columns using the Label Encoding Technique.\n",
      "Lets see our encoded Data..... \n"
     ]
    },
    {
     "data": {
      "text/html": [
       "<div>\n",
       "<style scoped>\n",
       "    .dataframe tbody tr th:only-of-type {\n",
       "        vertical-align: middle;\n",
       "    }\n",
       "\n",
       "    .dataframe tbody tr th {\n",
       "        vertical-align: top;\n",
       "    }\n",
       "\n",
       "    .dataframe thead th {\n",
       "        text-align: right;\n",
       "    }\n",
       "</style>\n",
       "<table border=\"1\" class=\"dataframe\">\n",
       "  <thead>\n",
       "    <tr style=\"text-align: right;\">\n",
       "      <th></th>\n",
       "      <th>student_id</th>\n",
       "      <th>student_name</th>\n",
       "      <th>age</th>\n",
       "      <th>gender</th>\n",
       "      <th>previous_grades</th>\n",
       "      <th>attendance_percentage</th>\n",
       "      <th>study_hours_per_week</th>\n",
       "      <th>assignments_submitted</th>\n",
       "      <th>exam_scores</th>\n",
       "      <th>student_success</th>\n",
       "    </tr>\n",
       "  </thead>\n",
       "  <tbody>\n",
       "    <tr>\n",
       "      <th>0</th>\n",
       "      <td>1</td>\n",
       "      <td>Saanvi Das</td>\n",
       "      <td>23.0</td>\n",
       "      <td>1</td>\n",
       "      <td>69.0</td>\n",
       "      <td>56.000000</td>\n",
       "      <td>18.0</td>\n",
       "      <td>6.0</td>\n",
       "      <td>73.0</td>\n",
       "      <td>0</td>\n",
       "    </tr>\n",
       "    <tr>\n",
       "      <th>1</th>\n",
       "      <td>2</td>\n",
       "      <td>Ananya Sharma</td>\n",
       "      <td>20.0</td>\n",
       "      <td>0</td>\n",
       "      <td>53.0</td>\n",
       "      <td>71.000000</td>\n",
       "      <td>33.0</td>\n",
       "      <td>18.0</td>\n",
       "      <td>51.0</td>\n",
       "      <td>0</td>\n",
       "    </tr>\n",
       "    <tr>\n",
       "      <th>2</th>\n",
       "      <td>3</td>\n",
       "      <td>Rohan Kumar</td>\n",
       "      <td>21.0</td>\n",
       "      <td>1</td>\n",
       "      <td>98.0</td>\n",
       "      <td>59.000000</td>\n",
       "      <td>34.0</td>\n",
       "      <td>5.0</td>\n",
       "      <td>67.0</td>\n",
       "      <td>0</td>\n",
       "    </tr>\n",
       "    <tr>\n",
       "      <th>3</th>\n",
       "      <td>4</td>\n",
       "      <td>Vivaan Chopra</td>\n",
       "      <td>23.0</td>\n",
       "      <td>1</td>\n",
       "      <td>59.0</td>\n",
       "      <td>74.746411</td>\n",
       "      <td>0.0</td>\n",
       "      <td>10.0</td>\n",
       "      <td>48.0</td>\n",
       "      <td>0</td>\n",
       "    </tr>\n",
       "    <tr>\n",
       "      <th>4</th>\n",
       "      <td>5</td>\n",
       "      <td>Ira Reddy</td>\n",
       "      <td>19.0</td>\n",
       "      <td>1</td>\n",
       "      <td>88.0</td>\n",
       "      <td>64.000000</td>\n",
       "      <td>20.0</td>\n",
       "      <td>10.0</td>\n",
       "      <td>60.0</td>\n",
       "      <td>0</td>\n",
       "    </tr>\n",
       "  </tbody>\n",
       "</table>\n",
       "</div>"
      ],
      "text/plain": [
       "   student_id   student_name   age  gender  previous_grades  \\\n",
       "0           1     Saanvi Das  23.0       1             69.0   \n",
       "1           2  Ananya Sharma  20.0       0             53.0   \n",
       "2           3    Rohan Kumar  21.0       1             98.0   \n",
       "3           4  Vivaan Chopra  23.0       1             59.0   \n",
       "4           5      Ira Reddy  19.0       1             88.0   \n",
       "\n",
       "   attendance_percentage  study_hours_per_week  assignments_submitted  \\\n",
       "0              56.000000                  18.0                    6.0   \n",
       "1              71.000000                  33.0                   18.0   \n",
       "2              59.000000                  34.0                    5.0   \n",
       "3              74.746411                   0.0                   10.0   \n",
       "4              64.000000                  20.0                   10.0   \n",
       "\n",
       "   exam_scores  student_success  \n",
       "0         73.0                0  \n",
       "1         51.0                0  \n",
       "2         67.0                0  \n",
       "3         48.0                0  \n",
       "4         60.0                0  "
      ]
     },
     "execution_count": 13,
     "metadata": {},
     "output_type": "execute_result"
    }
   ],
   "source": [
    "#Lets Convert our Object Columns into the Numaric\n",
    "#Using The LabelEncoder\n",
    "print(\"We are Encode the Gender Columns using the Label Encoding Technique.\")\n",
    "encoder = LabelEncoder()\n",
    "\n",
    "df['gender'] = encoder.fit_transform(df['gender'])\n",
    "df['student_success'] = encoder.fit_transform(df['student_success'])  #Pass=1, Fail=0\n",
    "\n",
    "print(\"Lets see our encoded Data..... \")\n",
    "df.head()"
   ]
  },
  {
   "cell_type": "code",
   "execution_count": 14,
   "id": "353727bd-56f4-4c52-b0c0-0e4f9604bf57",
   "metadata": {},
   "outputs": [
    {
     "name": "stdout",
     "output_type": "stream",
     "text": [
      "Let see the Datatypes of the all Data Columns.\n",
      "<class 'pandas.core.frame.DataFrame'>\n",
      "RangeIndex: 2200 entries, 0 to 2199\n",
      "Data columns (total 10 columns):\n",
      " #   Column                 Non-Null Count  Dtype  \n",
      "---  ------                 --------------  -----  \n",
      " 0   student_id             2200 non-null   int64  \n",
      " 1   student_name           2200 non-null   object \n",
      " 2   age                    2200 non-null   float64\n",
      " 3   gender                 2200 non-null   int64  \n",
      " 4   previous_grades        2200 non-null   float64\n",
      " 5   attendance_percentage  2200 non-null   float64\n",
      " 6   study_hours_per_week   2200 non-null   float64\n",
      " 7   assignments_submitted  2200 non-null   float64\n",
      " 8   exam_scores            2200 non-null   float64\n",
      " 9   student_success        2200 non-null   int64  \n",
      "dtypes: float64(6), int64(3), object(1)\n",
      "memory usage: 172.0+ KB\n"
     ]
    }
   ],
   "source": [
    "print(\"Let see the Datatypes of the all Data Columns.\")\n",
    "df.info()"
   ]
  },
  {
   "cell_type": "code",
   "execution_count": 15,
   "id": "5fb88eee-3ee6-4025-8265-6b899f412634",
   "metadata": {},
   "outputs": [],
   "source": [
    "#Lets do the FetureScaling for the Numaric Columns\n",
    "\n",
    "features = ['age', 'gender', 'previous_grades', 'attendance_percentage', 'study_hours_per_week', 'assignments_submitted', 'exam_scores']\n",
    "\n",
    "scaler = StandardScaler()\n",
    "\n",
    "df_scaled = df.copy()\n",
    "\n",
    "df_scaled[features] = scaler.fit_transform(df_scaled[features])"
   ]
  },
  {
   "cell_type": "code",
   "execution_count": 16,
   "id": "aef191f0-b487-4921-998d-7686db58abe1",
   "metadata": {},
   "outputs": [
    {
     "name": "stdout",
     "output_type": "stream",
     "text": [
      "Data After Scaling:\n",
      "   student_id   student_name       age    gender  previous_grades  \\\n",
      "0           1     Saanvi Das  1.131409  1.082482        -0.072134   \n",
      "1           2  Ananya Sharma -0.207322 -0.923803        -1.017705   \n",
      "2           3    Rohan Kumar  0.238922  1.082482         1.641715   \n",
      "3           4  Vivaan Chopra  1.131409  1.082482        -0.663116   \n",
      "4           5      Ira Reddy -0.653565  1.082482         1.050732   \n",
      "\n",
      "   attendance_percentage  study_hours_per_week  assignments_submitted  \\\n",
      "0          -1.350966e+00             -0.142993              -0.623732   \n",
      "1          -2.699864e-01              1.188012               1.485083   \n",
      "2          -1.134770e+00              1.276746              -0.799466   \n",
      "3           1.024110e-15             -1.740199               0.079207   \n",
      "4          -7.744437e-01              0.034475               0.079207   \n",
      "\n",
      "   exam_scores  student_success  \n",
      "0     0.439703                0  \n",
      "1    -0.686622                0  \n",
      "2     0.132523                0  \n",
      "3    -0.840212                0  \n",
      "4    -0.225853                0  \n"
     ]
    }
   ],
   "source": [
    "#Lets see the data after Scaling\n",
    "print(\"Data After Scaling:\")\n",
    "print(df_scaled.head())"
   ]
  },
  {
   "cell_type": "code",
   "execution_count": 17,
   "id": "b1cf3755-a5cc-4082-8312-ec4bc8f1779d",
   "metadata": {},
   "outputs": [
    {
     "name": "stdout",
     "output_type": "stream",
     "text": [
      "Classification Report:\n",
      "              precision    recall  f1-score   support\n",
      "\n",
      "           0       0.86      0.90      0.88       312\n",
      "           1       0.72      0.65      0.68       128\n",
      "\n",
      "    accuracy                           0.82       440\n",
      "   macro avg       0.79      0.77      0.78       440\n",
      "weighted avg       0.82      0.82      0.82       440\n",
      "\n"
     ]
    }
   ],
   "source": [
    "#Lets train the model\n",
    "\n",
    "X = df_scaled[features]   #This is our Feture Column\n",
    "y = df_scaled['student_success']  #This is our Target Column\n",
    "\n",
    "X_train, X_test, Y_train, Y_test = train_test_split(X, y, test_size=0.2, random_state=42)\n",
    "\n",
    "model = LogisticRegression()\n",
    "model.fit(X_train, Y_train)\n",
    "\n",
    "y_pred = model.predict(X_test)\n",
    "\n",
    "print(\"Classification Report:\")\n",
    "print(classification_report(Y_test, y_pred))"
   ]
  },
  {
   "cell_type": "code",
   "execution_count": 19,
   "id": "b0917d96-d4c6-466f-954b-c46697b1bb1e",
   "metadata": {},
   "outputs": [
    {
     "name": "stdout",
     "output_type": "stream",
     "text": [
      "The Confusion Matrix is:\n",
      "[[280  32]\n",
      " [ 45  83]]\n"
     ]
    }
   ],
   "source": [
    "#Lets Find the Confusion Matrix\n",
    "conf_matrix = confusion_matrix(Y_test, y_pred)\n",
    "print(\"The Confusion Matrix is:\")\n",
    "print(conf_matrix)"
   ]
  },
  {
   "cell_type": "code",
   "execution_count": 20,
   "id": "68fffb39-cce4-4cd8-9d03-701f655ecc8f",
   "metadata": {},
   "outputs": [
    {
     "data": {
      "image/png": "[encoded data removed]",
      "text/plain": [
       "<Figure size 800x600 with 2 Axes>"
      ]
     },
     "metadata": {},
     "output_type": "display_data"
    }
   ],
   "source": [
    "#Lets Draw the Charts for Confusion Matrix\n",
    "\n",
    "plt.figure(figsize=(8, 6))\n",
    "sns.heatmap(conf_matrix, annot=True, fmt=\"d\", cmap=\"Blues\", xticklabels=[\"Fail\", \"Pass\"], yticklabels=[\"Fail\", \"Pass\"])\n",
    "plt.xlabel(\"Predicted\")\n",
    "plt.ylabel(\"Actual\")\n",
    "plt.title(\"Confusion Matrix\")\n",
    "plt.tight_layout()\n",
    "plt.savefig(\"Confusion_Matrix.png\", dpi=800, bbox_inches='tight')\n",
    "plt.show()"
   ]
  },
  {
   "cell_type": "code",
   "execution_count": 48,
   "id": "bb511a89-f009-441d-a1a5-1966c83403a8",
   "metadata": {},
   "outputs": [
    {
     "name": "stdout",
     "output_type": "stream",
     "text": [
      "-----------------Lets Predict The Result For Student-----------------\n"
     ]
    },
    {
     "name": "stdin",
     "output_type": "stream",
     "text": [
      "Enter the Age of the Student:  21\n",
      "Enter the Gender of the Student (Female=0, Male=1):  1\n",
      "Enter the previous grades of the Student:  90\n",
      "Enter the attendance percentage of the Student:  89\n",
      "Enter the study hours per week of the Student:  30\n",
      "Enter the assignments submitted marks of the Student (out of 20):  19\n",
      "Enter the Last exam scores of the Student:  82\n"
     ]
    },
    {
     "name": "stdout",
     "output_type": "stream",
     "text": [
      "Prediction Based on Input = Pass\n"
     ]
    },
    {
     "name": "stderr",
     "output_type": "stream",
     "text": [
      "C:\\Users\\Admin\\AppData\\Local\\Programs\\Python\\Python313\\Lib\\site-packages\\sklearn\\utils\\validation.py:2749: UserWarning: X does not have valid feature names, but LogisticRegression was fitted with feature names\n",
      "  warnings.warn(\n"
     ]
    }
   ],
   "source": [
    "#User Input for the Prediction\n",
    "\n",
    "print(\"-----------------Lets Predict The Result For Student-----------------\")\n",
    "\n",
    "try:\n",
    "    age = float(input(\"Enter the Age of the Student: \"))\n",
    "    gender = float(input(\"Enter the Gender of the Student (Female=0, Male=1): \"))\n",
    "    previous_grades = float(input(\"Enter the previous grades of the Student: \"))\n",
    "    attendance_percentage = float(input(\"Enter the attendance percentage of the Student: \"))\n",
    "    study_hours_per_week = float(input(\"Enter the study hours per week of the Student: \"))\n",
    "    assignments_submitted = float(input(\"Enter the assignments submitted marks of the Student (out of 20): \"))\n",
    "    exam_scores = float(input(\"Enter the Last exam scores of the Student: \"))\n",
    "\n",
    "    # Ensure the same column order as training\n",
    "    user_input_df = pd.DataFrame([{\n",
    "        'age': age,\n",
    "        'gender': gender,\n",
    "        'previous_grades': previous_grades,\n",
    "        'attendance_percentage': attendance_percentage,\n",
    "        'study_hours_per_week': study_hours_per_week,\n",
    "        'assignments_submitted': assignments_submitted,\n",
    "        'exam_scores': exam_scores\n",
    "    }])[features]\n",
    "\n",
    "    # Scale user input\n",
    "    user_input_scaled = scaler.transform(user_input_df)\n",
    "\n",
    "    # Predict\n",
    "    prediction = model.predict(user_input_scaled)[0]\n",
    "    result = \"Pass\" if prediction == 1 else \"Fail\"\n",
    "\n",
    "    print(f\"Prediction Based on Input = {result}\")\n",
    "\n",
    "except Exception as e:\n",
    "    print(\"An error occurred:\", e)\n"
   ]
  }
 ],
 "metadata": {
  "kernelspec": {
   "display_name": "Python 3 (ipykernel)",
   "language": "python",
   "name": "python3"
  },
  "language_info": {
   "codemirror_mode": {
    "name": "ipython",
    "version": 3
   },
   "file_extension": ".py",
   "mimetype": "text/x-python",
   "name": "python",
   "nbconvert_exporter": "python",
   "pygments_lexer": "ipython3",
   "version": "3.13.7"
  }
 },
 "nbformat": 4,
 "nbformat_minor": 5
}
